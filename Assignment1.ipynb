{
 "cells": [
  {
   "cell_type": "markdown",
   "metadata": {},
   "source": [
    "# Assignment 1\n",
    "\n",
    "## Formalia:\n",
    "\n",
    "Please read the [assignment overview page](https://github.com/suneman/socialdata2023/wiki/Assignments) carefully before proceeding. This page contains information about formatting (including formats etc.), group sizes, and many other aspects of handing in the assignment. \n",
    "\n",
    "_If you fail to follow these simple instructions, it will negatively impact your grade!_\n",
    "\n",
    "**Due date and time**: The assignment is due on Monday February 27th, 2023 at 23:55. Hand in your files via [http://peergrade.io](http://peergrade.io/).\n",
    "\n",
    "**Peergrading date and time**: _Remember that after handing in you have 1 week to evaluate a few assignments written by other members of the class_. "
   ]
  },
  {
   "cell_type": "code",
   "execution_count": null,
   "metadata": {},
   "outputs": [],
   "source": [
    "import pandas as pd\n",
    "import numpy as np\n",
    "import matplotlib.pyplot as plt\n",
    "import calplot"
   ]
  },
  {
   "cell_type": "code",
   "execution_count": null,
   "metadata": {},
   "outputs": [],
   "source": [
    "df = pd.read_csv('Data/Police_Department_Incident_Reports__Historical_2003_to_May_2018.csv')\n",
    "df['Timestamp'] = pd.to_datetime(df['Date'] + ' ' + df['Time'], format='%m/%d/%Y %H:%M')\n",
    "df = df.drop(df[df['Timestamp'] >= '2018-01-01'].index)"
   ]
  },
  {
   "cell_type": "markdown",
   "metadata": {},
   "source": [
    "## A1 Part 1: Visualizing patterns in the data\n",
    "\n",
    "In this sub-assignment, we recreate some of the plots from Week 2. We look only at the focus-crimes."
   ]
  },
  {
   "cell_type": "code",
   "execution_count": null,
   "metadata": {},
   "outputs": [],
   "source": [
    "focuscrimes = set(['WEAPON LAWS', 'PROSTITUTION', 'DRIVING UNDER THE INFLUENCE', 'ROBBERY', 'BURGLARY', 'ASSAULT', 'DRUNKENNESS', 'DRUG/NARCOTIC', 'TRESPASS', 'LARCENY/THEFT', 'VANDALISM', 'VEHICLE THEFT', 'STOLEN PROPERTY', 'DISORDERLY CONDUCT'])"
   ]
  },
  {
   "cell_type": "markdown",
   "metadata": {},
   "source": [
    "For each set of plots below, describe the plots (as you would in the figure text in a report or paper), and pick a few aspects that stand out to you and comment on those (we provided a couple of ideas during class but it's OK to add more).\n",
    "\n",
    "* First create the week-day plots, the months, the 24-hour cycle, and the 168 hours of the week as barcharts (Week 2, Part 2).\n",
    "* Next choose a crime type that you like and create a calendar plot (Week 2, Part 4). Don't forget to comment on patterns you observe.\n",
    "* Finally, choose a different crime type and create a polar plot of its 24hour cycle (Week 2, Part 4). Again, don't forget to comment as you would in a figure text."
   ]
  },
  {
   "attachments": {},
   "cell_type": "markdown",
   "metadata": {},
   "source": [
    "> We start by creating the week-day plots by simply counting the total number of occurences of the specific focus crime on each day of the week."
   ]
  },
  {
   "cell_type": "code",
   "execution_count": null,
   "metadata": {},
   "outputs": [],
   "source": [
    "fig = plt.figure(figsize=(10,20))\n",
    "for i, crime in enumerate(focuscrimes):\n",
    "    df_i = df.loc[df.Category == crime]\n",
    "    crimes_per_DayOfWeek = df_i.groupby([df_i['Timestamp'].dt.day_of_week,df_i['Timestamp'].dt.day_name()])['DayOfWeek'].value_counts()\n",
    "    crimes_per_DayOfWeek = crimes_per_DayOfWeek.droplevel(0,'index').droplevel(0,'index')\n",
    "    ax = fig.add_subplot(7, 2, i + 1)\n",
    "    crimes_per_DayOfWeek.plot(ax=ax, kind='bar', title=crime, xlabel=\"Day Of Week\", ylabel=\"Occurences\")\n",
    "    ax.tick_params(axis='x', labelrotation = 30)\n",
    "fig.suptitle('Crime occurences per Day Of Week')\n",
    "fig.tight_layout(rect=[0, 0, 1, 0.99])"
   ]
  },
  {
   "attachments": {},
   "cell_type": "markdown",
   "metadata": {},
   "source": [
    "> From the DRUNKNESS plot we see that most DRUNKNESS crimes take place during the weekend, which makes sense since most people tend to drink more during the weekends. Other crimes could easily be assosiated with drunkness such as DRIVING UNDER INFLUENCE, VANDALISM and ASSULT also have peaks during the weekends. More suprisingly PROSTITUTION and DRUG/NARCOTIC crimes peak in the middel of the week.\n",
    ">\n",
    "> Next we create the month-plots by simply counting the total number of occurences of the specific focus crime in each month of the year."
   ]
  },
  {
   "cell_type": "code",
   "execution_count": null,
   "metadata": {},
   "outputs": [],
   "source": [
    "df['Month'] = df['Timestamp'].dt.month_name()\n",
    "fig = plt.figure(figsize=(10,20))\n",
    "for i, crime in enumerate(focuscrimes):\n",
    "    df_i = df.loc[df.Category == crime]\n",
    "    crimes_per_Month = df_i.groupby([df_i['Timestamp'].dt.month,df_i['Timestamp'].dt.month_name()])['Month'].value_counts()\n",
    "    crimes_per_Month = crimes_per_Month.droplevel(0,'index').droplevel(0,'index')\n",
    "    ax = fig.add_subplot(7, 2, i + 1)\n",
    "    crimes_per_Month.plot(ax=ax, kind='bar', title=crime, xlabel=\"Month\", ylabel=\"Occurences\")\n",
    "    ax.tick_params(axis='x', labelrotation = 45)\n",
    "fig.suptitle('Crime occurences per Month')\n",
    "fig.tight_layout(rect=[0, 0, 1, 0.99])"
   ]
  },
  {
   "attachments": {},
   "cell_type": "markdown",
   "metadata": {},
   "source": [
    "> There are not really a creat difference in the number of crimes in the specific months.\n",
    ">\n",
    "> Next we create the the 24-hour cycle plots by simply counting the total number of occurences of the specific focus crime in each hour of the day."
   ]
  },
  {
   "cell_type": "code",
   "execution_count": null,
   "metadata": {},
   "outputs": [],
   "source": [
    "fig = plt.figure(figsize=(15,25))\n",
    "for i, crime in enumerate(focuscrimes):\n",
    "    df_i = df.loc[df.Category == crime]\n",
    "    crimes_per_Hour = df_i['Timestamp'].dt.hour.value_counts().sort_index()\n",
    "    ax = fig.add_subplot(7, 2, i + 1)\n",
    "    crimes_per_Hour.plot(ax=ax, kind='bar', title=crime, xlabel=\"Hour\", ylabel=\"Occurences\")\n",
    "    ax.tick_params(axis='x', labelrotation = 0)\n",
    "fig.suptitle('Crime occurences per Hour')\n",
    "fig.tight_layout(rect=[0, 0, 1, 0.99])"
   ]
  },
  {
   "attachments": {},
   "cell_type": "markdown",
   "metadata": {},
   "source": [
    "> From these plots we see that for most of the focus crimes the least crimes are commited around 4-5 am, when most people are a sleep. Again as could be expected, DRUNKNESS and DRIVING UNDER THE INFLUENCE crimes are commited during the evening and night, which makes sense since people tend to drink more during the night. More suprisingly DISORDERLY CONDUCT peaks at 6 in the morning, this could be due to people being more grumpy in the morning.\n",
    ">\n",
    "> Next we create the the 168 hours of the week plots by simply counting the total number of occurences of the specific focus crime in each hour of every day of the week."
   ]
  },
  {
   "cell_type": "code",
   "execution_count": null,
   "metadata": {},
   "outputs": [],
   "source": [
    "fig = plt.figure(figsize=(10,50))\n",
    "for i, crime in enumerate(focuscrimes):\n",
    "    df_i = df.loc[df.Category == crime]\n",
    "    crimes_per_DayOfWeek_and_hour = df_i.groupby([df_i['Timestamp'].dt.day_of_week,df_i['Timestamp'].dt.day_name(),df_i['Timestamp'].dt.hour,df_i['Timestamp'].dt.minute])['DayOfWeek'].value_counts()\n",
    "    crimes_per_DayOfWeek_and_hour = crimes_per_DayOfWeek_and_hour.droplevel(0,'index').droplevel(0,'index')\n",
    "    ax = fig.add_subplot(14, 1, i + 1)\n",
    "    crimes_per_DayOfWeek_and_hour.droplevel(1,'index').plot(ax=ax, title=crime, xlabel=\"Day Of Week and hour\", ylabel=\"Occurences\")\n",
    "    ax.locator_params(axis='x', nbins=50)\n",
    "    ax.tick_params(axis='x', labelrotation = 30)\n",
    "fig.tight_layout(rect=[0, 0, 1, 0.975])\n",
    "fig.suptitle('Crime occurences per Day Of Week and hour')\n",
    "plt.show()"
   ]
  },
  {
   "cell_type": "code",
   "execution_count": null,
   "metadata": {},
   "outputs": [],
   "source": [
    "fig = plt.figure(figsize=(10,50))\n",
    "for i, crime in enumerate(focuscrimes):\n",
    "    df_i = df.loc[df.Category == crime]\n",
    "    crimes_per_DayOfWeek_and_hour = df_i.groupby([df_i['Timestamp'].dt.day_of_week,df_i['Timestamp'].dt.day_name(),df_i['Timestamp'].dt.hour])['DayOfWeek'].value_counts()\n",
    "    crimes_per_DayOfWeek_and_hour = crimes_per_DayOfWeek_and_hour.droplevel(0,'index').droplevel(0,'index')\n",
    "    ax = fig.add_subplot(14, 1, i + 1)\n",
    "    crimes_per_DayOfWeek_and_hour.droplevel(1,'index').plot(ax=ax, kind='bar', title=crime, xlabel=\"Day Of Week and hour\", ylabel=\"Occurences\")\n",
    "    ax.locator_params(axis='x', nbins=7*3)\n",
    "    ax.tick_params( axis='x', labelrotation = 0)\n",
    "    ax2 = ax.twiny()\n",
    "    crimes_per_DayOfWeek_and_hour.droplevel(0,'index').plot(ax=ax2, kind='bar', title='', xlabel='', ylabel='')\n",
    "    ax2.locator_params(axis='x', nbins=7)\n",
    "    ax2.tick_params( axis='x', labelrotation = 30)\n",
    "fig.tight_layout(rect=[0, 0, 1, 0.975])\n",
    "fig.suptitle('Crime occurences per Day Of Week and hour')\n",
    "plt.show()"
   ]
  },
  {
   "attachments": {},
   "cell_type": "markdown",
   "metadata": {},
   "source": [
    "> Here we combine the week-day plot and the 24 hour cycle plot...\n",
    ">\n",
    "> Next we create the calendar plot for ASSULT."
   ]
  },
  {
   "cell_type": "code",
   "execution_count": null,
   "metadata": {},
   "outputs": [],
   "source": [
    "df_assult = df.loc[df.Category == 'ASSAULT']\n",
    "events = pd.Series(df_assult['Timestamp'].value_counts(), index=df_assult['Timestamp'])\n",
    "calplot.calplot(events, cmap='YlGn', colorbar=False)\n",
    "plt.show()"
   ]
  },
  {
   "attachments": {},
   "cell_type": "markdown",
   "metadata": {},
   "source": [
    "> Many years we see a large number of ASSULT crimes on the 1st of January.\n",
    ">\n",
    "> Next we create a polar plot of the 24 hour cycle of DRUNKENNESS."
   ]
  },
  {
   "cell_type": "code",
   "execution_count": null,
   "metadata": {},
   "outputs": [],
   "source": [
    "df_drunk = df.loc[df.Category == 'DRUNKENNESS']\n",
    "events = df['Timestamp'].dt.hour.value_counts().sort_index()\n",
    "\n",
    "# Compute pie slices\n",
    "N = len(events)\n",
    "radians = np.linspace(0.0, 2 * np.pi, N, endpoint=False)\n",
    "degrees = np.linspace(0.0, 360, N, endpoint=False)\n",
    "times = events.index\n",
    "width = 2*np.pi/ N-0.01\n",
    "\n",
    "\n",
    "plt.figure(figsize=(10,10))\n",
    "ax = plt.subplot(projection='polar')\n",
    "ax.bar(radians, events, width=width, bottom=0.0, alpha=0.5)\n",
    "ax.set_thetagrids(degrees, labels=times)\n",
    "ax.set(theta_direction=-1,theta_zero_location='N')\n",
    "plt.show()"
   ]
  },
  {
   "attachments": {},
   "cell_type": "markdown",
   "metadata": {},
   "source": [
    "> This is a great way of the 24 hour cicle since it is cyclic."
   ]
  },
  {
   "attachments": {},
   "cell_type": "markdown",
   "metadata": {},
   "source": [
    "## A1 Part 2: Dataviz questions \n",
    "\n",
    "Have a look at the encoding dataviz lecture (Week 4), then answer the following questions in your own words. \n",
    "\n",
    "* Mention 10 examples of ways we can encode data.\n",
    ">\n",
    ">   * Position\n",
    ">   * Length\n",
    ">   * Area\n",
    ">   * Shape\n",
    ">   * Color\n",
    ">   * Angle\n",
    ">   * Line weight\n",
    ">   * Line ending\n",
    ">   * Texture\n",
    ">   * Pattern\n",
    ">\n",
    "* Are all encodings created equally? Why not? Can you think of an example from the previous lectures?\n",
    ">\n",
    "> No, \n",
    ">\n",
    "* Mention 3 encodings that are difficult for the human eye to parse. Can you find an example of a visualization online that uses one of those three?\n",
    ">\n",
    ">   * Angle\n",
    ">   * Area/size\n",
    ">   * Color intensity\n",
    ">\n",
    "* Explain in your own words: What is the problem with pie-charts?\n",
    ">\n",
    "> Angles are more difficult for the human eye to process than e.g height of the bars in a bar chart and they can almost always visualize the same data.\n",
    ">"
   ]
  },
  {
   "cell_type": "markdown",
   "metadata": {},
   "source": [
    "## A1 Part 3: Visualizing geodata using Plotly\n",
    "\n",
    "In this sub-assignment I want you to create a choropleth map of San Francisco, showing where it's safest to leave your car on Sundays, following the instructions from Week 3.\n",
    "\n",
    "When you're done, reflect on the following questions.\n",
    "\n",
    "* Based on your map and analysis, where should you park the car for it to be safest on a Sunday? And where's the worst place?\n",
    "* Using visualizatios can help us uncover powerful data-patterns. However, when designing visualizations, we need to be aware of several illusions that can lead viewers to misinterpret the data we are showing (i.e. perceptual errors):\n",
    "   - Try to change the range of data-values in the plot above. Is there a way to make the difference between district less evident?\n",
    "   - Why do you think perceptual errors are a problem? Try to think of a few examples. "
   ]
  },
  {
   "cell_type": "markdown",
   "metadata": {},
   "source": [
    "## A1 Part 4: Errors in the data\n",
    "\n",
    "We started the course by plotting simple histogram and bar plots that showed a lot of cool patterns. But sometimes the binning can hide imprecision, irregularity, and simple errors in the data that could be misleading. In the work we've done so far, we've already come across at least three examples of this in the SF data (listed in Part 3 of Week 4). \n",
    "\n",
    "The data errors we discovered at the end of Week 4 become difficult to notice when we aggregate data (and when we calculate mean values, as well as statistics more generally). Thus, when we visualize, errors become difficult to notice when binning the data. We explore this process in the exercise below.\n",
    "\n",
    "* In each of the 3 examples we listed during Week 4, describe in your own words how the data-errors I call attention to above can bias the binned versions of the data. \n",
    "* Also, briefly mention how not noticing these errors can result in misconceptions about the underlying patterns of what's going on in San Francisco (and our modeling).\n",
    "* Find your own example of human noise in the data and visualize it."
   ]
  },
  {
   "attachments": {},
   "cell_type": "markdown",
   "metadata": {},
   "source": [
    "> 1. **Spike in reported incidents for `PROSTITUTION` on Thursdays**\n",
    ">\n",
    "> The high amounts of prostitutions incident reports on Thursdays around 11am and 12pm could be due to some weekly scheduled incident registration for prostitution offences. This might give a wrong indication of how many incidents actually happen on Thursdays and thereby introducing bias in the data. This bias becomes prevalent both when binning the data according to the week day, and when binning according to the hour of the day. It is important to notice this bias when using the data in decisionmaking. Eg. when and where to assign more police to crack down on certain crimes."
   ]
  },
  {
   "cell_type": "code",
   "execution_count": null,
   "metadata": {},
   "outputs": [],
   "source": [
    "prositutions = df[df.Category == \"PROSTITUTION\"]\n",
    "num_incidents = prositutions.groupby([prositutions.Timestamp.dt.day_of_week, prositutions.Timestamp.dt.day_name(), prositutions.Timestamp.dt.hour, prositutions.Timestamp.dt.minute]).size()\n",
    "\n",
    "max_label = num_incidents.idxmax()\n",
    "max_value = num_incidents.max()\n",
    "\n",
    "num_incidents.droplevel(0,'index').droplevel(1,'index').droplevel(1,'index').plot(kind=\"line\", xlabel=\"Day Of Week and hour\", ylabel=\"Occurences\", figsize=(20,10))\n",
    "plt.show()"
   ]
  },
  {
   "cell_type": "code",
   "execution_count": null,
   "metadata": {},
   "outputs": [],
   "source": [
    "num_incidents.idxmax()"
   ]
  },
  {
   "attachments": {},
   "cell_type": "markdown",
   "metadata": {},
   "source": [
    "> 2. **Alignment bias in timestamps**\n",
    ">\n",
    "> This error could be due to subjects not knowing the exact time of when the crime happened and therefore reporting a time on the hour or multiples of 15 minutes. This introduces a bias when binning the incidents by what time they happened. This should be taken into account when eg. considering when to deploy police patrols. It might not be the best idea to only patrol exactly on the clock..."
   ]
  },
  {
   "attachments": {},
   "cell_type": "markdown",
   "metadata": {},
   "source": [
    "> 3. __*Hall of justice* as an unlikeley hotspot for sex offences.__\n",
    ">\n",
    "> This might be due to the victims reporting the crime at the Hall of Justice and not actually the crime itself happened at the location. This might give a wrong indication on which particular areas to keep an eye on in order to bring down the amount of sex offences. The police might want to have two different columns instead, specifying where the crime happened and where it was reported to avoid confusion."
   ]
  }
 ],
 "metadata": {
  "kernelspec": {
   "display_name": "data-science",
   "language": "python",
   "name": "python3"
  },
  "language_info": {
   "codemirror_mode": {
    "name": "ipython",
    "version": 3
   },
   "file_extension": ".py",
   "mimetype": "text/x-python",
   "name": "python",
   "nbconvert_exporter": "python",
   "pygments_lexer": "ipython3",
   "version": "3.9.7"
  },
  "vscode": {
   "interpreter": {
    "hash": "feb72aa86adf3dbe491716fb35fe8b95aef07c373b2aed386ae31cecd3b83cf2"
   }
  }
 },
 "nbformat": 4,
 "nbformat_minor": 4
}
